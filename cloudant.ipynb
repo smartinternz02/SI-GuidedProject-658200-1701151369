{
  "nbformat": 4,
  "nbformat_minor": 0,
  "metadata": {
    "colab": {
      "provenance": []
    },
    "kernelspec": {
      "name": "python3",
      "display_name": "Python 3"
    },
    "language_info": {
      "name": "python"
    }
  },
  "cells": [
    {
      "cell_type": "code",
      "execution_count": 1,
      "metadata": {
        "colab": {
          "base_uri": "https://localhost:8080/"
        },
        "id": "FLbVXUC9Jn8E",
        "outputId": "9fc659f3-cce4-42b9-f049-e907c5638de7"
      },
      "outputs": [
        {
          "output_type": "stream",
          "name": "stdout",
          "text": [
            "Collecting cloudant\n",
            "  Downloading cloudant-2.15.0-py3-none-any.whl (80 kB)\n",
            "\u001b[?25l     \u001b[90m━━━━━━━━━━━━━━━━━━━━━━━━━━━━━━━━━━━━━━━━\u001b[0m \u001b[32m0.0/80.5 kB\u001b[0m \u001b[31m?\u001b[0m eta \u001b[36m-:--:--\u001b[0m\r\u001b[2K     \u001b[90m━━━━━━━━━━━━━━━━━━━━━━━━━━━━━━━━━━━━━━━━\u001b[0m \u001b[32m80.5/80.5 kB\u001b[0m \u001b[31m2.6 MB/s\u001b[0m eta \u001b[36m0:00:00\u001b[0m\n",
            "\u001b[?25hRequirement already satisfied: requests<3.0.0,>=2.7.0 in /usr/local/lib/python3.10/dist-packages (from cloudant) (2.31.0)\n",
            "Requirement already satisfied: charset-normalizer<4,>=2 in /usr/local/lib/python3.10/dist-packages (from requests<3.0.0,>=2.7.0->cloudant) (3.3.2)\n",
            "Requirement already satisfied: idna<4,>=2.5 in /usr/local/lib/python3.10/dist-packages (from requests<3.0.0,>=2.7.0->cloudant) (3.4)\n",
            "Requirement already satisfied: urllib3<3,>=1.21.1 in /usr/local/lib/python3.10/dist-packages (from requests<3.0.0,>=2.7.0->cloudant) (2.0.7)\n",
            "Requirement already satisfied: certifi>=2017.4.17 in /usr/local/lib/python3.10/dist-packages (from requests<3.0.0,>=2.7.0->cloudant) (2023.7.22)\n",
            "Installing collected packages: cloudant\n",
            "Successfully installed cloudant-2.15.0\n"
          ]
        }
      ],
      "source": [
        "!pip install cloudant"
      ]
    },
    {
      "cell_type": "code",
      "source": [
        "from cloudant.client import Cloudant"
      ],
      "metadata": {
        "id": "tzSLnlfJJ2fp"
      },
      "execution_count": 2,
      "outputs": []
    },
    {
      "cell_type": "code",
      "source": [
        "client = Cloudant.iam('cda5ee4e-9b1a-43e2-974c-089a7482bc2c-bluemix', 'EZeVfuEWXcsZYgWNPlgQaBYOgDBKR3dGdev6DluCHjQy',connect=True)"
      ],
      "metadata": {
        "id": "j_9tVQu5KHP-"
      },
      "execution_count": 4,
      "outputs": []
    },
    {
      "cell_type": "code",
      "source": [
        "mydatabase=client.create_database('my_database')"
      ],
      "metadata": {
        "id": "vEOhS5j4LvdM"
      },
      "execution_count": 6,
      "outputs": []
    }
  ]
}